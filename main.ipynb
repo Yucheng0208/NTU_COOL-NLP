{
 "cells": [
  {
   "cell_type": "markdown",
   "metadata": {},
   "source": [
    "## Subject: LLM - Detect AI Generated Text\n",
    "## Reference: LLM Detect: Text Cluster [中文]"
   ]
  },
  {
   "cell_type": "markdown",
   "metadata": {},
   "source": [
    "### Install Packet"
   ]
  },
  {
   "cell_type": "code",
   "execution_count": null,
   "metadata": {},
   "outputs": [],
   "source": [
    "!pip install sentence_transformers\n",
    "!pip install scikit-learn\n",
    "!pip install pandas\n",
    "!pip install numpy"
   ]
  },
  {
   "cell_type": "markdown",
   "metadata": {},
   "source": [
    "### Import Packet"
   ]
  },
  {
   "cell_type": "code",
   "execution_count": null,
   "metadata": {},
   "outputs": [],
   "source": [
    "from sentence_transformers import SentenceTransformer\n",
    "from sklearn.manifold import TSNE\n",
    "import pandas as pd\n",
    "import numpy as np"
   ]
  },
  {
   "cell_type": "markdown",
   "metadata": {},
   "source": [
    "### Path settings"
   ]
  },
  {
   "cell_type": "code",
   "execution_count": null,
   "metadata": {
    "vscode": {
     "languageId": "ini"
    }
   },
   "outputs": [],
   "source": [
    "# 資料路徑\n",
    "# DATA_PATH = './input'\n",
    "DATA_PATH = '/kaggle/input/llm-detect-ai-generated-text'\n",
    "\n",
    "# 讀取訓練集文章數據\n",
    "train_essays = pd.read_csv(f'{DATA_PATH}/train_essays.csv')\n",
    "\n",
    "# 讀取訓練集作文題目數據\n",
    "train_prompts = pd.read_csv(f'{DATA_PATH}/train_prompts.csv')\n",
    "\n",
    "# 讀取測試集文章數據\n",
    "test_essays = pd.read_csv(f'{DATA_PATH}/test_essays.csv')\n",
    "\n",
    "# 讀取樣本提交文件\n",
    "sample_submit = pd.read_csv(f'{DATA_PATH}/sample_submission.csv')"
   ]
  },
  {
   "cell_type": "code",
   "execution_count": null,
   "metadata": {
    "vscode": {
     "languageId": "ini"
    }
   },
   "outputs": [],
   "source": [
    "# 載入外資料集\n",
    "train_v2_drcat_02_path = '/kaggle/input/daigt-v2-train-dataset/train_v2_drcat_02.csv'\n",
    "# train_v2_drcat_02_path = './train_v2_drcat_02.csv'\n",
    "train = pd.read_csv(train_v2_drcat_02_path, sep=',')"
   ]
  },
  {
   "cell_type": "code",
   "execution_count": null,
   "metadata": {
    "vscode": {
     "languageId": "ini"
    }
   },
   "outputs": [],
   "source": [
    "# 合併外部資料集\n",
    "# train = pd.concat([\n",
    "#     train_essays.rename({'generated': 'label'}, axis=1)[['text', 'label']],\n",
    "#     train[['text', 'label']]\n",
    "# ],axis=0)\n",
    "\n",
    "# 依照文字內容進行去重\n",
    "train = train.drop_duplicates(subset=['text'])\n",
    "train.reset_index(drop=True, inplace=True)"
   ]
  },
  {
   "cell_type": "code",
   "execution_count": null,
   "metadata": {
    "vscode": {
     "languageId": "ini"
    }
   },
   "outputs": [],
   "source": [
    "# 載入與訓練模型\n",
    "model = SentenceTransformer('all-MiniLM-L6-v2')"
   ]
  },
  {
   "cell_type": "code",
   "execution_count": null,
   "metadata": {
    "vscode": {
     "languageId": "ini"
    }
   },
   "outputs": [],
   "source": [
    "# 進行文字編碼\n",
    "embeddings = model.encode(train['text'], show_progress_bar=True)"
   ]
  },
  {
   "cell_type": "code",
   "execution_count": null,
   "metadata": {
    "vscode": {
     "languageId": "ini"
    }
   },
   "outputs": [],
   "source": [
    "from sklearn.decomposition import PCA\n",
    "pca = PCA(n_components=2)\n",
    "embeddings_pca = pca.fit_transform(embeddings)"
   ]
  },
  {
   "cell_type": "code",
   "execution_count": null,
   "metadata": {
    "vscode": {
     "languageId": "ini"
    }
   },
   "outputs": [],
   "source": [
    "import matplotlib.pyplot as plt\n",
    "\n",
    "for c in train['label'].unique():\n",
    "    plt.scatter(embeddings_pca[train['label']==c, 0],\n",
    "                embeddings_pca[train['label']==c, 1])\n",
    "plt.legend(train['label'].unique(), title='label')"
   ]
  },
  {
   "cell_type": "code",
   "execution_count": null,
   "metadata": {
    "vscode": {
     "languageId": "ini"
    }
   },
   "outputs": [],
   "source": [
    "for c in train['prompt_name'].unique():\n",
    "    plt.scatter(embeddings_pca[train['prompt_name']==c, 0],\n",
    "                embeddings_pca[train['prompt_name']==c, 1])\n",
    "plt.legend(train['prompt_name'].unique(), title='prompt_name', bbox_to_anchor=(1, 1.0))"
   ]
  },
  {
   "cell_type": "code",
   "execution_count": null,
   "metadata": {
    "vscode": {
     "languageId": "ini"
    }
   },
   "outputs": [],
   "source": [
    "X = np.array([[0, 0, 0], [0, 1, 1], [1, 0, 1], [1, 1, 1]])\n",
    "X_embedded = TSNE(n_components=2, learning_rate='auto',\n",
    "                  init='random', perplexity=3).fit_transform(X)\n",
    "X_embedded.shape"
   ]
  },
  {
   "cell_type": "code",
   "execution_count": null,
   "metadata": {
    "vscode": {
     "languageId": "ini"
    }
   },
   "outputs": [],
   "source": [
    "data_index = np.random.choice(range(44868), 5000)\n",
    "\n",
    "tsne = TSNE(n_components=2)\n",
    "embeddings_tsne = tsne.fit_transform(embeddings[data_index])"
   ]
  },
  {
   "cell_type": "code",
   "execution_count": null,
   "metadata": {
    "vscode": {
     "languageId": "ini"
    }
   },
   "outputs": [],
   "source": [
    "for c in train['label'].iloc[data_index].unique():\n",
    "    plt.scatter(embeddings_tsne[train['label'].iloc[data_index]==c, 0],\n",
    "                embeddings_tsne[train['label'].iloc[data_index]==c, 1])\n",
    "\n",
    "plt.legend(train['label'].iloc[data_index].unique(), title='label')"
   ]
  },
  {
   "cell_type": "code",
   "execution_count": null,
   "metadata": {
    "vscode": {
     "languageId": "ini"
    }
   },
   "outputs": [],
   "source": [
    "for c in train['prompt_name'].iloc[data_index].unique():\n",
    "    plt.scatter(embeddings_tsne[train['prompt_name'].iloc[data_index]==c, 0],\n",
    "                embeddings_tsne[train['prompt_name'].iloc[data_index]==c, 1])\n",
    "\n",
    "plt.legend(train['prompt_name'].unique(), title='prompt_name', bbox_to_anchor=(1, 1.0))"
   ]
  }
 ],
 "metadata": {
  "language_info": {
   "name": "python"
  }
 },
 "nbformat": 4,
 "nbformat_minor": 2
}
